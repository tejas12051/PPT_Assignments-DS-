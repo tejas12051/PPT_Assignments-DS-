{
 "cells": [
  {
   "cell_type": "markdown",
   "metadata": {
    "id": "XUfQuBR7FqLN"
   },
   "source": [
    "1. Write a Python program to reverse a string without using any built-in string reversal functions.\n"
   ]
  },
  {
   "cell_type": "code",
   "execution_count": 2,
   "metadata": {
    "colab": {
     "base_uri": "https://localhost:8080/"
    },
    "id": "3J3aCxM_Fsdz",
    "outputId": "e87e5bdb-6404-4298-9589-8f720a389397"
   },
   "outputs": [
    {
     "name": "stdout",
     "output_type": "stream",
     "text": [
      "sajeT\n"
     ]
    }
   ],
   "source": [
    "in_str = \"Tejas\"\n",
    "print(in_str[::-1])"
   ]
  },
  {
   "cell_type": "markdown",
   "metadata": {
    "id": "qsiF_WxEF2uv"
   },
   "source": [
    "2. Implement a function to check if a given string is a palindrome."
   ]
  },
  {
   "cell_type": "code",
   "execution_count": 4,
   "metadata": {
    "colab": {
     "base_uri": "https://localhost:8080/"
    },
    "id": "HJALuILqF1KV",
    "outputId": "8e6025c4-96cd-4552-98f6-becc20950420"
   },
   "outputs": [
    {
     "name": "stdout",
     "output_type": "stream",
     "text": [
      "abba is palindrome\n"
     ]
    }
   ],
   "source": [
    "def check_palindrome(in_str):\n",
    "  out_str = in_str[::-1]\n",
    "  if in_str == out_str:\n",
    "    print(in_str,\"is palindrome\")\n",
    "  else:\n",
    "\n",
    "    print(in_str,'is not palindrome')\n",
    "check_palindrome('abba')"
   ]
  },
  {
   "cell_type": "markdown",
   "metadata": {
    "id": "pDgL1y9MGZIa"
   },
   "source": [
    " 3.Write a program to find the largest element in a given list."
   ]
  },
  {
   "cell_type": "code",
   "execution_count": 6,
   "metadata": {
    "colab": {
     "base_uri": "https://localhost:8080/"
    },
    "id": "4a1SM63SGObb",
    "outputId": "0ee96370-86c2-4f2c-d8b1-7d81844c8c7e"
   },
   "outputs": [
    {
     "name": "stdout",
     "output_type": "stream",
     "text": [
      "98\n"
     ]
    }
   ],
   "source": [
    "in_list = [5,98,0,3,4,23,56]\n",
    "for i in in_list:\n",
    "  if i==max(in_list):\n",
    "    print(i)"
   ]
  },
  {
   "cell_type": "markdown",
   "metadata": {
    "id": "EwXP1CyAG5ht"
   },
   "source": [
    "4. Implement a function to count the occurrence of each element in a list."
   ]
  },
  {
   "cell_type": "code",
   "execution_count": 8,
   "metadata": {
    "colab": {
     "base_uri": "https://localhost:8080/"
    },
    "id": "7__YYrgcGvqa",
    "outputId": "f54e081d-9bd2-4665-9b86-67a8122937bf"
   },
   "outputs": [
    {
     "name": "stdout",
     "output_type": "stream",
     "text": [
      "{2: 2, 3: 1, 4: 1, 5: 1}\n"
     ]
    }
   ],
   "source": [
    "def count_elem(in_list):\n",
    "    d = {}\n",
    "    for i in set(in_list):\n",
    "        d[i] = in_list.count(i)\n",
    "    print(d)\n",
    "\n",
    "count_elem([2, 4, 5, 2, 3])\n"
   ]
  },
  {
   "cell_type": "markdown",
   "metadata": {
    "id": "Thpp3LtnM5eF"
   },
   "source": [
    "5. Write a Python program to find the second largest number in a list."
   ]
  },
  {
   "cell_type": "code",
   "execution_count": 9,
   "metadata": {
    "colab": {
     "base_uri": "https://localhost:8080/"
    },
    "id": "G3wdGGBwJK-y",
    "outputId": "8c5e41a0-3313-4150-a32c-532e3b6e2ba1"
   },
   "outputs": [
    {
     "name": "stdout",
     "output_type": "stream",
     "text": [
      "78\n"
     ]
    }
   ],
   "source": [
    "in_list = [7,2,0,45,32,78,34,87]\n",
    "print(sorted(in_list)[-2])"
   ]
  },
  {
   "cell_type": "markdown",
   "metadata": {
    "id": "FFF0Y74CNHmt"
   },
   "source": [
    "6. Implement a function to remove duplicate elements from a list."
   ]
  },
  {
   "cell_type": "code",
   "execution_count": 12,
   "metadata": {
    "colab": {
     "base_uri": "https://localhost:8080/"
    },
    "id": "BHN_Qyc0NGEF",
    "outputId": "c1d3bdd5-5327-4212-e5e3-68606e0b8e85"
   },
   "outputs": [
    {
     "data": {
      "text/plain": [
       "[2, 3, 4, 5, 7, 8, 9]"
      ]
     },
     "execution_count": 12,
     "metadata": {},
     "output_type": "execute_result"
    }
   ],
   "source": [
    "def remove_dup(in_list):\n",
    "  return list(set(in_list))\n",
    "remove_dup([4,8,3,4,7,9,2,5,4,8])"
   ]
  },
  {
   "cell_type": "markdown",
   "metadata": {
    "id": "EtUZeMOlNc3n"
   },
   "source": [
    "7. Write a program to calculate the factorial of a given number"
   ]
  },
  {
   "cell_type": "code",
   "execution_count": 13,
   "metadata": {
    "colab": {
     "base_uri": "https://localhost:8080/"
    },
    "id": "GOL9EsJ7NURs",
    "outputId": "f8a0ace9-0d80-499f-d0bf-00bd4136ec3d"
   },
   "outputs": [
    {
     "data": {
      "text/plain": [
       "120"
      ]
     },
     "execution_count": 13,
     "metadata": {},
     "output_type": "execute_result"
    }
   ],
   "source": [
    "def fact_of_num(n):\n",
    "  f=1\n",
    "  for i in range(1,n+1):\n",
    "    f*=i\n",
    "  return f\n",
    "fact_of_num(5)"
   ]
  },
  {
   "cell_type": "markdown",
   "metadata": {
    "id": "NrIU7uwmNx85"
   },
   "source": [
    "8. Implement a function to check if a given number is prime.\n"
   ]
  },
  {
   "cell_type": "code",
   "execution_count": 18,
   "metadata": {
    "colab": {
     "base_uri": "https://localhost:8080/"
    },
    "id": "B-ubIRlkNr1u",
    "outputId": "647c54f6-c63f-47f0-d7e7-b588e2067adb"
   },
   "outputs": [
    {
     "name": "stdout",
     "output_type": "stream",
     "text": [
      "10 is not prime\n"
     ]
    }
   ],
   "source": [
    "def check_prime(n):\n",
    "    if n <= 1:\n",
    "        print(n, \"is not prime\")\n",
    "    else:\n",
    "        for i in range(2, n):\n",
    "            if n % i == 0:\n",
    "                print(n, \"is not prime\")\n",
    "                break\n",
    "        else:\n",
    "            print(n, \"is prime\")\n",
    "\n",
    "check_prime(10)\n"
   ]
  },
  {
   "cell_type": "markdown",
   "metadata": {
    "id": "HoEn9y58QOQh"
   },
   "source": [
    "9. Write a Python program to sort a list of integers in ascending order."
   ]
  },
  {
   "cell_type": "code",
   "execution_count": 19,
   "metadata": {
    "colab": {
     "base_uri": "https://localhost:8080/"
    },
    "id": "zJBt2aLMPrse",
    "outputId": "4c2f759e-bed2-4f1d-f328-b2975c0ba50e"
   },
   "outputs": [
    {
     "name": "stdout",
     "output_type": "stream",
     "text": [
      "[0, 1, 2, 4, 6, 8]\n"
     ]
    }
   ],
   "source": [
    "in_list = [4,8,2,0,6,1]\n",
    "print(sorted(in_list))"
   ]
  },
  {
   "cell_type": "markdown",
   "metadata": {
    "id": "jqcehACNQcda"
   },
   "source": [
    "10. Implement a function to find the sum of all numbers in a list."
   ]
  },
  {
   "cell_type": "code",
   "execution_count": 20,
   "metadata": {
    "colab": {
     "base_uri": "https://localhost:8080/"
    },
    "id": "s2xipEGvQYoi",
    "outputId": "72535d0c-7c72-479e-8adb-ad3df325b441"
   },
   "outputs": [
    {
     "name": "stdout",
     "output_type": "stream",
     "text": [
      "45\n"
     ]
    }
   ],
   "source": [
    "in_list = [0,1,2,3,4,5,6,7,8,9]\n",
    "s = 0\n",
    "for i in in_list:\n",
    "  s+=i\n",
    "print(s)"
   ]
  },
  {
   "cell_type": "markdown",
   "metadata": {
    "id": "9M_AxhPZQ3Qb"
   },
   "source": [
    "11. Write a program to find the common elements between two lists."
   ]
  },
  {
   "cell_type": "code",
   "execution_count": 21,
   "metadata": {
    "colab": {
     "base_uri": "https://localhost:8080/"
    },
    "id": "mDDiN4_3Qoro",
    "outputId": "5eb69fb1-a11b-4e40-9564-fa001ba2263a"
   },
   "outputs": [
    {
     "name": "stdout",
     "output_type": "stream",
     "text": [
      "[3, 4]\n"
     ]
    }
   ],
   "source": [
    "list1 = [1,2,3,4]\n",
    "list2 = [3,4,5,6]\n",
    "\n",
    "common = set(list1).intersection(set(list2))\n",
    "\n",
    "print(list(common))"
   ]
  },
  {
   "cell_type": "markdown",
   "metadata": {
    "id": "fpg3AdU-RM9j"
   },
   "source": [
    "12. Implement a function to check if a given string is an anagram of another string."
   ]
  },
  {
   "cell_type": "code",
   "execution_count": 22,
   "metadata": {
    "id": "DP8xMdNURItj"
   },
   "outputs": [],
   "source": [
    "def is_anagram(str1, str2):\n",
    "    str1 = str1.replace(\" \", \"\").lower()\n",
    "    str2 = str2.replace(\" \", \"\").lower()\n",
    "\n",
    "    if len(str1) != len(str2):\n",
    "        return False\n",
    "\n",
    "    count = {}\n",
    "    for char in str1:\n",
    "        if char in count:\n",
    "            count[char] += 1\n",
    "        else:\n",
    "            count[char] = 1\n",
    "\n",
    "    for char in str2:\n",
    "        if char in count:\n",
    "            count[char] -= 1\n",
    "            if count[char] == 0:\n",
    "                del count[char]\n",
    "        else:\n",
    "            return False\n",
    "\n",
    "    return len(count) == 0\n"
   ]
  },
  {
   "cell_type": "code",
   "execution_count": 23,
   "metadata": {
    "colab": {
     "base_uri": "https://localhost:8080/"
    },
    "id": "pGQsuHMNRft_",
    "outputId": "e1f4ffdf-b24b-4a82-942c-d39eb9332382"
   },
   "outputs": [
    {
     "name": "stdout",
     "output_type": "stream",
     "text": [
      "True\n"
     ]
    }
   ],
   "source": [
    "string1 = \"listen\"\n",
    "string2 = \"silent\"\n",
    "result = is_anagram(string1, string2)\n",
    "print(result)\n"
   ]
  },
  {
   "cell_type": "markdown",
   "metadata": {
    "id": "54mmX01qRmlI"
   },
   "source": [
    "13. Write a Python program to generate all permutations of a given string."
   ]
  },
  {
   "cell_type": "code",
   "execution_count": 24,
   "metadata": {
    "colab": {
     "base_uri": "https://localhost:8080/"
    },
    "id": "PpwUdfACRlAZ",
    "outputId": "9aee331e-69e1-4d63-ce79-0fcc0837f5ae"
   },
   "outputs": [
    {
     "name": "stdout",
     "output_type": "stream",
     "text": [
      "abc\n",
      "acb\n",
      "bac\n",
      "bca\n",
      "cab\n",
      "cba\n"
     ]
    }
   ],
   "source": [
    "from itertools import permutations\n",
    "\n",
    "def generate_permutations(string):\n",
    "    perms = permutations(string)\n",
    "    for perm in perms:\n",
    "        print(''.join(perm))\n",
    "\n",
    "generate_permutations(\"abc\")\n"
   ]
  },
  {
   "cell_type": "markdown",
   "metadata": {
    "id": "NS85liD7R2iB"
   },
   "source": [
    "14. Implement a function to calculate the Fibonacci sequence up to a given number of terms."
   ]
  },
  {
   "cell_type": "code",
   "execution_count": 25,
   "metadata": {
    "colab": {
     "base_uri": "https://localhost:8080/"
    },
    "id": "r7pJpnVGRxi6",
    "outputId": "02559a23-e3d8-4e3b-9239-176d67a5401d"
   },
   "outputs": [
    {
     "name": "stdout",
     "output_type": "stream",
     "text": [
      "[0, 1, 1, 2, 3, 5, 8, 13, 21, 34]\n"
     ]
    }
   ],
   "source": [
    "def fibonacci_sequence(n):\n",
    "    sequence = []\n",
    "    if n >= 1:\n",
    "        sequence.append(0)\n",
    "    if n >= 2:\n",
    "        sequence.append(1)\n",
    "\n",
    "    for i in range(2, n):\n",
    "        next_num = sequence[i-1] + sequence[i-2]\n",
    "        sequence.append(next_num)\n",
    "\n",
    "    return sequence\n",
    "\n",
    "# Example usage\n",
    "terms = 10\n",
    "fib_seq = fibonacci_sequence(terms)\n",
    "print(fib_seq)\n"
   ]
  },
  {
   "cell_type": "markdown",
   "metadata": {
    "id": "wFnx3UfpSFhB"
   },
   "source": [
    "15. Write a program to find the median of a list of numbers."
   ]
  },
  {
   "cell_type": "code",
   "execution_count": 26,
   "metadata": {
    "colab": {
     "base_uri": "https://localhost:8080/"
    },
    "id": "FJunByOuSD6T",
    "outputId": "3458cc8f-9475-4b8b-8b80-db0feb81bbd5"
   },
   "outputs": [
    {
     "name": "stdout",
     "output_type": "stream",
     "text": [
      "5\n"
     ]
    }
   ],
   "source": [
    "def find_median(numbers):\n",
    "    sorted_numbers = sorted(numbers)\n",
    "    n = len(sorted_numbers)\n",
    "    middle_index = n // 2\n",
    "\n",
    "    if n % 2 == 0:\n",
    "        median = (sorted_numbers[middle_index - 1] + sorted_numbers[middle_index]) / 2\n",
    "    else:\n",
    "        median = sorted_numbers[middle_index]\n",
    "\n",
    "    return median\n",
    "\n",
    "# Example usage\n",
    "number_list = [4, 2, 9, 7, 5]\n",
    "median = find_median(number_list)\n",
    "print(median)\n"
   ]
  },
  {
   "cell_type": "markdown",
   "metadata": {
    "id": "cwtcjCjYSgq1"
   },
   "source": [
    "16. Implement a function to check if a given list is sorted in non-decreasing order."
   ]
  },
  {
   "cell_type": "code",
   "execution_count": 27,
   "metadata": {
    "colab": {
     "base_uri": "https://localhost:8080/"
    },
    "id": "loV8oDMdSarE",
    "outputId": "cb27b9d9-c6dc-43c3-9b4f-8d2396189755"
   },
   "outputs": [
    {
     "name": "stdout",
     "output_type": "stream",
     "text": [
      "True\n"
     ]
    }
   ],
   "source": [
    "def is_sorted(numbers):\n",
    "    for i in range(len(numbers) - 1):\n",
    "        if numbers[i] > numbers[i + 1]:\n",
    "            return False\n",
    "    return True\n",
    "\n",
    "# Example usage\n",
    "number_list = [1, 2, 3, 4, 5]\n",
    "result = is_sorted(number_list)\n",
    "print(result)\n"
   ]
  },
  {
   "cell_type": "markdown",
   "metadata": {
    "id": "62vt3FGmSwRp"
   },
   "source": [
    "17. Write a Python program to find the intersection of two lists."
   ]
  },
  {
   "cell_type": "code",
   "execution_count": 28,
   "metadata": {
    "colab": {
     "base_uri": "https://localhost:8080/"
    },
    "id": "gjwUB3YDSvAN",
    "outputId": "3138938f-a63b-4ff2-fab0-b7382329f6ca"
   },
   "outputs": [
    {
     "name": "stdout",
     "output_type": "stream",
     "text": [
      "[3, 4]\n"
     ]
    }
   ],
   "source": [
    "list1 = [1,2,3,4]\n",
    "list2 = [3,4,5,6]\n",
    "\n",
    "common = set(list1).intersection(set(list2))\n",
    "\n",
    "print(list(common))"
   ]
  },
  {
   "cell_type": "markdown",
   "metadata": {
    "id": "Yx5SFLkWS9TV"
   },
   "source": [
    "18. Implement a function to find the maximum subarray sum in a given list."
   ]
  },
  {
   "cell_type": "code",
   "execution_count": 29,
   "metadata": {
    "colab": {
     "base_uri": "https://localhost:8080/"
    },
    "id": "u52AWj-wS60f",
    "outputId": "915c8a48-d508-4994-e3f1-c9e66533ffe1"
   },
   "outputs": [
    {
     "name": "stdout",
     "output_type": "stream",
     "text": [
      "6\n"
     ]
    }
   ],
   "source": [
    "def max_subarray_sum(numbers):\n",
    "    max_sum = float('-inf')  # Initialize with negative infinity\n",
    "    current_sum = 0\n",
    "\n",
    "    for num in numbers:\n",
    "        current_sum += num\n",
    "        if current_sum > max_sum:\n",
    "            max_sum = current_sum\n",
    "        if current_sum < 0:\n",
    "            current_sum = 0\n",
    "\n",
    "    return max_sum\n",
    "\n",
    "# Example usage\n",
    "number_list = [-2, 1, -3, 4, -1, 2, 1, -5, 4]\n",
    "max_sum = max_subarray_sum(number_list)\n",
    "print(max_sum)\n"
   ]
  },
  {
   "cell_type": "markdown",
   "metadata": {
    "id": "PYtz8AttTKKg"
   },
   "source": [
    "19. Write a program to remove all vowels from a given string."
   ]
  },
  {
   "cell_type": "code",
   "execution_count": 30,
   "metadata": {
    "colab": {
     "base_uri": "https://localhost:8080/"
    },
    "id": "FUHqL1JuTIEJ",
    "outputId": "653e5116-6d57-4fec-dfe3-3c0dda467d96"
   },
   "outputs": [
    {
     "name": "stdout",
     "output_type": "stream",
     "text": [
      "Hll, Wrld!\n"
     ]
    }
   ],
   "source": [
    "def remove_vowels(string):\n",
    "    vowels = 'aeiouAEIOU'\n",
    "    result = ''\n",
    "    for char in string:\n",
    "        if char not in vowels:\n",
    "            result += char\n",
    "    return result\n",
    "\n",
    "# Example usage\n",
    "input_string = \"Hello, World!\"\n",
    "output_string = remove_vowels(input_string)\n",
    "print(output_string)\n"
   ]
  },
  {
   "cell_type": "markdown",
   "metadata": {
    "id": "RpcTIgd7TVtU"
   },
   "source": [
    "20. Implement a function to reverse the order of words in a given sentence."
   ]
  },
  {
   "cell_type": "code",
   "execution_count": 31,
   "metadata": {
    "colab": {
     "base_uri": "https://localhost:8080/"
    },
    "id": "6pNAxC-cTT7E",
    "outputId": "96604bf8-3528-408a-a3cf-ddffd8d2c1f1"
   },
   "outputs": [
    {
     "name": "stdout",
     "output_type": "stream",
     "text": [
      "OpenAI. to Welcome world! Hello,\n"
     ]
    }
   ],
   "source": [
    "def reverse_words(sentence):\n",
    "    words = sentence.split()\n",
    "    reversed_words = words[::-1]\n",
    "    reversed_sentence = ' '.join(reversed_words)\n",
    "    return reversed_sentence\n",
    "\n",
    "# Example usage\n",
    "input_sentence = \"Hello, world! Welcome to OpenAI.\"\n",
    "output_sentence = reverse_words(input_sentence)\n",
    "print(output_sentence)\n"
   ]
  },
  {
   "cell_type": "markdown",
   "metadata": {
    "id": "-quRO4iUTg2t"
   },
   "source": [
    "21. Write a Python program to check if two strings are anagrams of each other."
   ]
  },
  {
   "cell_type": "code",
   "execution_count": 32,
   "metadata": {
    "colab": {
     "base_uri": "https://localhost:8080/"
    },
    "id": "1g0rqj7eTenv",
    "outputId": "c239a1d0-cd89-4948-8908-5a17c6dea44f"
   },
   "outputs": [
    {
     "name": "stdout",
     "output_type": "stream",
     "text": [
      "True\n"
     ]
    }
   ],
   "source": [
    "def are_anagrams(str1, str2):\n",
    "    str1 = str1.replace(\" \", \"\").lower()\n",
    "    str2 = str2.replace(\" \", \"\").lower()\n",
    "\n",
    "    if sorted(str1) == sorted(str2):\n",
    "        return True\n",
    "    else:\n",
    "        return False\n",
    "\n",
    "# Example usage\n",
    "string1 = \"listen\"\n",
    "string2 = \"silent\"\n",
    "result = are_anagrams(string1, string2)\n",
    "print(result)\n"
   ]
  },
  {
   "cell_type": "markdown",
   "metadata": {
    "id": "sLQ1EczZTwub"
   },
   "source": [
    "22. Implement a function to find the first non-repeating character in a string."
   ]
  },
  {
   "cell_type": "code",
   "execution_count": 33,
   "metadata": {
    "colab": {
     "base_uri": "https://localhost:8080/"
    },
    "id": "3XrWqWb9TuTF",
    "outputId": "11a301d6-0e08-41d7-ac3b-650fced9880b"
   },
   "outputs": [
    {
     "name": "stdout",
     "output_type": "stream",
     "text": [
      "c\n"
     ]
    }
   ],
   "source": [
    "def find_first_non_repeating_char(string):\n",
    "    char_count = {}\n",
    "\n",
    "    for char in string:\n",
    "        if char in char_count:\n",
    "            char_count[char] += 1\n",
    "        else:\n",
    "            char_count[char] = 1\n",
    "\n",
    "    for char in string:\n",
    "        if char_count[char] == 1:\n",
    "            return char\n",
    "\n",
    "    return None\n",
    "\n",
    "# Example usage\n",
    "input_string = \"abacabad\"\n",
    "result = find_first_non_repeating_char(input_string)\n",
    "print(result)\n"
   ]
  },
  {
   "cell_type": "markdown",
   "metadata": {
    "id": "BlSpPVhxT7gD"
   },
   "source": [
    "23. Write a program to find the prime factors of a given number."
   ]
  },
  {
   "cell_type": "code",
   "execution_count": 34,
   "metadata": {
    "colab": {
     "base_uri": "https://localhost:8080/"
    },
    "id": "TWPMr7S6UFH-",
    "outputId": "d568cd50-5566-4996-baa2-11cd254ad241"
   },
   "outputs": [
    {
     "name": "stdout",
     "output_type": "stream",
     "text": [
      "[2, 2, 3, 3]\n"
     ]
    }
   ],
   "source": [
    "def find_prime_factors(number):\n",
    "    factors = []\n",
    "    divisor = 2\n",
    "\n",
    "    while divisor <= number:\n",
    "        if number % divisor == 0:\n",
    "            factors.append(divisor)\n",
    "            number //= divisor\n",
    "        else:\n",
    "            divisor += 1\n",
    "\n",
    "    return factors\n",
    "\n",
    "# Example usage\n",
    "input_number = 36\n",
    "prime_factors = find_prime_factors(input_number)\n",
    "print(prime_factors)\n"
   ]
  },
  {
   "cell_type": "markdown",
   "metadata": {
    "id": "sfZGeUQaUJfn"
   },
   "source": [
    "24. Implement a function to check if a given number is a power of two."
   ]
  },
  {
   "cell_type": "code",
   "execution_count": 35,
   "metadata": {
    "colab": {
     "base_uri": "https://localhost:8080/"
    },
    "id": "ljQkTiz6T5A7",
    "outputId": "af83c7a6-264b-41cc-e566-59cffc8c760d"
   },
   "outputs": [
    {
     "name": "stdout",
     "output_type": "stream",
     "text": [
      "True\n"
     ]
    }
   ],
   "source": [
    "def is_power_of_two(number):\n",
    "    if number <= 0:\n",
    "        return False\n",
    "    else:\n",
    "        return (number & (number - 1)) == 0\n",
    "\n",
    "# Example usage\n",
    "input_number = 16\n",
    "result = is_power_of_two(input_number)\n",
    "print(result)\n"
   ]
  },
  {
   "cell_type": "markdown",
   "metadata": {
    "id": "Kv_2Mn9OUSai"
   },
   "source": [
    "25. Write a Python program to merge two sorted lists into a single sorted list."
   ]
  },
  {
   "cell_type": "code",
   "execution_count": 36,
   "metadata": {
    "colab": {
     "base_uri": "https://localhost:8080/"
    },
    "id": "h8-vsAnAUQjf",
    "outputId": "ec3fbd6d-1c39-4c34-8c4f-4465b2af9f55"
   },
   "outputs": [
    {
     "name": "stdout",
     "output_type": "stream",
     "text": [
      "[1, 2, 3, 4, 6, 7, 8, 9]\n"
     ]
    }
   ],
   "source": [
    "def merge_sorted_lists(list1, list2):\n",
    "    merged_list = []\n",
    "    i = 0\n",
    "    j = 0\n",
    "\n",
    "    while i < len(list1) and j < len(list2):\n",
    "        if list1[i] <= list2[j]:\n",
    "            merged_list.append(list1[i])\n",
    "            i += 1\n",
    "        else:\n",
    "            merged_list.append(list2[j])\n",
    "            j += 1\n",
    "\n",
    "    # Append any remaining elements from list1 or list2\n",
    "    merged_list.extend(list1[i:])\n",
    "    merged_list.extend(list2[j:])\n",
    "\n",
    "    return merged_list\n",
    "\n",
    "# Example usage\n",
    "list1 = [1, 4, 7, 9]\n",
    "list2 = [2, 3, 6, 8]\n",
    "merged_list = merge_sorted_lists(list1, list2)\n",
    "print(merged_list)\n"
   ]
  },
  {
   "cell_type": "markdown",
   "metadata": {
    "id": "vr0dAH8MUgr2"
   },
   "source": [
    "26. Implement a function to find the mode of a list of numbers"
   ]
  },
  {
   "cell_type": "code",
   "execution_count": 37,
   "metadata": {
    "colab": {
     "base_uri": "https://localhost:8080/"
    },
    "id": "YdXU2TYPUeRR",
    "outputId": "a775ed1e-4295-4480-a6ef-307f4697a6d1"
   },
   "outputs": [
    {
     "name": "stdout",
     "output_type": "stream",
     "text": [
      "[4]\n"
     ]
    }
   ],
   "source": [
    "from collections import Counter\n",
    "\n",
    "def find_mode(numbers):\n",
    "    counter = Counter(numbers)\n",
    "    modes = counter.most_common()\n",
    "    max_count = modes[0][1]\n",
    "\n",
    "    mode_list = []\n",
    "    for num, count in modes:\n",
    "        if count == max_count:\n",
    "            mode_list.append(num)\n",
    "        else:\n",
    "            break\n",
    "\n",
    "    return mode_list\n",
    "\n",
    "# Example usage\n",
    "number_list = [1, 2, 2, 3, 3, 3, 4, 4, 4, 4]\n",
    "modes = find_mode(number_list)\n",
    "print(modes)\n"
   ]
  },
  {
   "cell_type": "markdown",
   "metadata": {
    "id": "X8ch7q9tUvB4"
   },
   "source": [
    "27. Write a program to find the greatest common divisor (GCD) of two numbers."
   ]
  },
  {
   "cell_type": "code",
   "execution_count": 38,
   "metadata": {
    "colab": {
     "base_uri": "https://localhost:8080/"
    },
    "id": "wKHNx8l4UtTI",
    "outputId": "5c9aca67-88cb-4fb4-e7a5-3117be70f0c2"
   },
   "outputs": [
    {
     "name": "stdout",
     "output_type": "stream",
     "text": [
      "6\n"
     ]
    }
   ],
   "source": [
    "def find_gcd(a, b):\n",
    "    while b != 0:\n",
    "        a, b = b, a % b\n",
    "    return a\n",
    "\n",
    "# Example usage\n",
    "number1 = 48\n",
    "number2 = 18\n",
    "gcd = find_gcd(number1, number2)\n",
    "print(gcd)\n"
   ]
  },
  {
   "cell_type": "markdown",
   "metadata": {
    "id": "KDwnEwOmU5-q"
   },
   "source": [
    "28. Implement a function to calculate the square root of a given number."
   ]
  },
  {
   "cell_type": "code",
   "execution_count": 39,
   "metadata": {
    "colab": {
     "base_uri": "https://localhost:8080/"
    },
    "id": "AfVYUdfNU4GP",
    "outputId": "62ec198d-2e76-4742-b9d9-0ec1bb335be2"
   },
   "outputs": [
    {
     "name": "stdout",
     "output_type": "stream",
     "text": [
      "3.0000000000393214\n"
     ]
    }
   ],
   "source": [
    "def calculate_square_root(number, epsilon=1e-6):\n",
    "    if number < 0:\n",
    "        raise ValueError(\"Square root is undefined for negative numbers.\")\n",
    "    if number == 0:\n",
    "        return 0\n",
    "\n",
    "    guess = number / 2\n",
    "    while abs(guess * guess - number) > epsilon:\n",
    "        guess = (guess + number / guess) / 2\n",
    "\n",
    "    return guess\n",
    "\n",
    "# Example usage\n",
    "input_number = 9\n",
    "square_root = calculate_square_root(input_number)\n",
    "print(square_root)\n"
   ]
  },
  {
   "cell_type": "markdown",
   "metadata": {
    "id": "LOkEbGl5VEZx"
   },
   "source": [
    "29. Write a Python program to check if a given string is a valid palindrome ignoring non-alphanumeric characters."
   ]
  },
  {
   "cell_type": "code",
   "execution_count": 40,
   "metadata": {
    "colab": {
     "base_uri": "https://localhost:8080/"
    },
    "id": "pqhhE1EYVC4N",
    "outputId": "d9d02d11-3bbf-4763-827a-af18a1e444ca"
   },
   "outputs": [
    {
     "name": "stdout",
     "output_type": "stream",
     "text": [
      "True\n"
     ]
    }
   ],
   "source": [
    "import re\n",
    "\n",
    "def is_valid_palindrome(string):\n",
    "    # Remove non-alphanumeric characters and convert to lowercase\n",
    "    alphanumeric_string = re.sub(r'\\W+', '', string).lower()\n",
    "\n",
    "    # Check if the alphanumeric string is equal to its reverse\n",
    "    return alphanumeric_string == alphanumeric_string[::-1]\n",
    "\n",
    "# Example usage\n",
    "input_string = \"A man, a plan, a canal: Panama.\"\n",
    "result = is_valid_palindrome(input_string)\n",
    "print(result)\n"
   ]
  },
  {
   "cell_type": "markdown",
   "metadata": {
    "id": "pUrOg-x-VOCB"
   },
   "source": [
    "30. Implement a function to find the minimum element in a rotated sorted list."
   ]
  },
  {
   "cell_type": "code",
   "execution_count": 41,
   "metadata": {
    "colab": {
     "base_uri": "https://localhost:8080/"
    },
    "id": "OQBlZjqLVMFj",
    "outputId": "d52d7255-a303-4037-a681-6cdcdfad8c5e"
   },
   "outputs": [
    {
     "name": "stdout",
     "output_type": "stream",
     "text": [
      "0\n"
     ]
    }
   ],
   "source": [
    "def find_minimum_element(rotated_list):\n",
    "    left = 0\n",
    "    right = len(rotated_list) - 1\n",
    "\n",
    "    while left < right:\n",
    "        mid = left + (right - left) // 2\n",
    "\n",
    "        if rotated_list[mid] > rotated_list[right]:\n",
    "            left = mid + 1\n",
    "        else:\n",
    "            right = mid\n",
    "\n",
    "    return rotated_list[left]\n",
    "\n",
    "# Example usage\n",
    "input_list = [4, 5, 6, 7, 0, 1, 2]\n",
    "minimum = find_minimum_element(input_list)\n",
    "print(minimum)\n"
   ]
  },
  {
   "cell_type": "markdown",
   "metadata": {
    "id": "sOqceSpuVYVM"
   },
   "source": [
    "31. Write a program to find the sum of all even numbers in a list."
   ]
  },
  {
   "cell_type": "code",
   "execution_count": 42,
   "metadata": {
    "colab": {
     "base_uri": "https://localhost:8080/"
    },
    "id": "zBLyt9HlVWv_",
    "outputId": "1e285506-dd81-4f86-afcd-813d50ef9780"
   },
   "outputs": [
    {
     "name": "stdout",
     "output_type": "stream",
     "text": [
      "30\n"
     ]
    }
   ],
   "source": [
    "def sum_even_numbers(numbers):\n",
    "    even_sum = 0\n",
    "    for num in numbers:\n",
    "        if num % 2 == 0:\n",
    "            even_sum += num\n",
    "    return even_sum\n",
    "\n",
    "# Example usage\n",
    "number_list = [1, 2, 3, 4, 5, 6, 7, 8, 9, 10]\n",
    "even_sum = sum_even_numbers(number_list)\n",
    "print(even_sum)\n"
   ]
  },
  {
   "cell_type": "markdown",
   "metadata": {
    "id": "hRffjHfhViC1"
   },
   "source": [
    "32. Implement a function to calculate the power of a number using recursion."
   ]
  },
  {
   "cell_type": "code",
   "execution_count": 43,
   "metadata": {
    "colab": {
     "base_uri": "https://localhost:8080/"
    },
    "id": "JGKGZnhcVgkg",
    "outputId": "5809a90c-8de4-4ff6-d45e-88f0e1f3f8fc"
   },
   "outputs": [
    {
     "name": "stdout",
     "output_type": "stream",
     "text": [
      "8\n"
     ]
    }
   ],
   "source": [
    "def power(base, exponent):\n",
    "    if exponent == 0:\n",
    "        return 1\n",
    "    elif exponent < 0:\n",
    "        return 1 / power(base, -exponent)\n",
    "    else:\n",
    "        return base * power(base, exponent - 1)\n",
    "\n",
    "# Example usage\n",
    "base_number = 2\n",
    "exponent_number = 3\n",
    "result = power(base_number, exponent_number)\n",
    "print(result)\n"
   ]
  },
  {
   "cell_type": "markdown",
   "metadata": {
    "id": "2i8zWBcIVsGs"
   },
   "source": [
    "33. Write a Python program to remove duplicates from a list while preserving the order"
   ]
  },
  {
   "cell_type": "code",
   "execution_count": 44,
   "metadata": {
    "colab": {
     "base_uri": "https://localhost:8080/"
    },
    "id": "hfvMRQzNVqLk",
    "outputId": "eec9809e-a636-4b5f-89cb-8641f96d9e67"
   },
   "outputs": [
    {
     "name": "stdout",
     "output_type": "stream",
     "text": [
      "[1, 2, 3, 4, 5, 6]\n"
     ]
    }
   ],
   "source": [
    "def remove_duplicates_preserve_order(input_list):\n",
    "    seen = set()\n",
    "    output_list = []\n",
    "\n",
    "    for item in input_list:\n",
    "        if item not in seen:\n",
    "            seen.add(item)\n",
    "            output_list.append(item)\n",
    "\n",
    "    return output_list\n",
    "\n",
    "# Example usage\n",
    "input_list = [1, 2, 3, 2, 4, 1, 5, 6, 4]\n",
    "output_list = remove_duplicates_preserve_order(input_list)\n",
    "print(output_list)\n"
   ]
  },
  {
   "cell_type": "markdown",
   "metadata": {
    "id": "8EQaFAB5V1uM"
   },
   "source": [
    "34. Implement a function to find the longest common prefix among a list of strings."
   ]
  },
  {
   "cell_type": "code",
   "execution_count": 45,
   "metadata": {
    "colab": {
     "base_uri": "https://localhost:8080/"
    },
    "id": "qfNvXLaCVzk1",
    "outputId": "7c90edbe-865d-45ed-bd93-729675074969"
   },
   "outputs": [
    {
     "name": "stdout",
     "output_type": "stream",
     "text": [
      "fl\n"
     ]
    }
   ],
   "source": [
    "def find_longest_common_prefix(strings):\n",
    "    if not strings:\n",
    "        return \"\"\n",
    "\n",
    "    # Find the shortest string in the list\n",
    "    shortest = min(strings, key=len)\n",
    "\n",
    "    for i, char in enumerate(shortest):\n",
    "        for string in strings:\n",
    "            if string[i] != char:\n",
    "                return shortest[:i]\n",
    "\n",
    "    return shortest\n",
    "\n",
    "# Example usage\n",
    "input_strings = [\"flower\", \"flow\", \"flight\"]\n",
    "common_prefix = find_longest_common_prefix(input_strings)\n",
    "print(common_prefix)\n"
   ]
  },
  {
   "cell_type": "markdown",
   "metadata": {
    "id": "ByDIsklDV_ij"
   },
   "source": [
    "35. Write a program to check if a given number is a perfect square."
   ]
  },
  {
   "cell_type": "code",
   "execution_count": 46,
   "metadata": {
    "colab": {
     "base_uri": "https://localhost:8080/"
    },
    "id": "hI6_cvjKV-A_",
    "outputId": "e5ffc351-5124-4f2f-ef4d-c01d7fd4b62d"
   },
   "outputs": [
    {
     "name": "stdout",
     "output_type": "stream",
     "text": [
      "True\n"
     ]
    }
   ],
   "source": [
    "def is_perfect_square(number):\n",
    "    if number < 0:\n",
    "        return False\n",
    "\n",
    "    sqrt = int(number ** 0.5)\n",
    "    return sqrt * sqrt == number\n",
    "\n",
    "# Example usage\n",
    "input_number = 16\n",
    "result = is_perfect_square(input_number)\n",
    "print(result)\n"
   ]
  },
  {
   "cell_type": "markdown",
   "metadata": {
    "id": "I1jus5GfWKEU"
   },
   "source": [
    "36. Implement a function to calculate the product of all elements in a list."
   ]
  },
  {
   "cell_type": "code",
   "execution_count": 47,
   "metadata": {
    "colab": {
     "base_uri": "https://localhost:8080/"
    },
    "id": "OhTeoRgvWH8S",
    "outputId": "0ebaeff7-5005-4983-a50c-459203611255"
   },
   "outputs": [
    {
     "name": "stdout",
     "output_type": "stream",
     "text": [
      "120\n"
     ]
    }
   ],
   "source": [
    "def calculate_product(numbers):\n",
    "    if not numbers:\n",
    "        return 0\n",
    "\n",
    "    product = 1\n",
    "    for num in numbers:\n",
    "        product *= num\n",
    "\n",
    "    return product\n",
    "\n",
    "# Example usage\n",
    "number_list = [2, 3, 4, 5]\n",
    "product = calculate_product(number_list)\n",
    "print(product)\n"
   ]
  },
  {
   "cell_type": "markdown",
   "metadata": {
    "id": "S2G8dieJWTah"
   },
   "source": [
    "37. Write a Python program to reverse the order of words in a sentence while preserving the word order."
   ]
  },
  {
   "cell_type": "code",
   "execution_count": 48,
   "metadata": {
    "colab": {
     "base_uri": "https://localhost:8080/"
    },
    "id": "ZkRB3xv9WR-w",
    "outputId": "5919278d-a5c7-4588-d7b7-f6a122f2ea87"
   },
   "outputs": [
    {
     "name": "stdout",
     "output_type": "stream",
     "text": [
      "you? are how World, Hello\n"
     ]
    }
   ],
   "source": [
    "def reverse_words(sentence):\n",
    "    words = sentence.split()\n",
    "    reversed_words = words[::-1]\n",
    "    reversed_sentence = ' '.join(reversed_words)\n",
    "    return reversed_sentence\n",
    "\n",
    "# Example usage\n",
    "input_sentence = \"Hello World, how are you?\"\n",
    "reversed_sentence = reverse_words(input_sentence)\n",
    "print(reversed_sentence)\n"
   ]
  },
  {
   "cell_type": "markdown",
   "metadata": {
    "id": "aslc47cQWdYR"
   },
   "source": [
    "38. Implement a function to find the missing number in a given list of consecutive numbers"
   ]
  },
  {
   "cell_type": "code",
   "execution_count": 49,
   "metadata": {
    "colab": {
     "base_uri": "https://localhost:8080/"
    },
    "id": "MAKBxQbQWb9p",
    "outputId": "11a1ecdf-e264-44b8-9f49-d6c4ba4a2eea"
   },
   "outputs": [
    {
     "name": "stdout",
     "output_type": "stream",
     "text": [
      "4\n"
     ]
    }
   ],
   "source": [
    "def find_missing_number(numbers):\n",
    "    n = len(numbers) + 1\n",
    "    expected_sum = n * (n + 1) // 2\n",
    "    actual_sum = sum(numbers)\n",
    "    missing_number = expected_sum - actual_sum\n",
    "    return missing_number\n",
    "\n",
    "# Example usage\n",
    "input_list = [1, 2, 3, 5, 6, 7, 8]\n",
    "missing_number = find_missing_number(input_list)\n",
    "print(missing_number)\n"
   ]
  },
  {
   "cell_type": "markdown",
   "metadata": {
    "id": "fqVxXk6pWnEw"
   },
   "source": [
    "39. Write a program to find the sum of digits of a given number."
   ]
  },
  {
   "cell_type": "code",
   "execution_count": 50,
   "metadata": {
    "colab": {
     "base_uri": "https://localhost:8080/"
    },
    "id": "dEPT6_eMWlfi",
    "outputId": "53c54c52-7300-4cd4-a982-523bbe85abf8"
   },
   "outputs": [
    {
     "name": "stdout",
     "output_type": "stream",
     "text": [
      "15\n"
     ]
    }
   ],
   "source": [
    "def sum_of_digits(number):\n",
    "    sum = 0\n",
    "    while number > 0:\n",
    "        digit = number % 10\n",
    "        sum += digit\n",
    "        number //= 10\n",
    "    return sum\n",
    "\n",
    "# Example usage\n",
    "input_number = 12345\n",
    "digit_sum = sum_of_digits(input_number)\n",
    "print(digit_sum)\n"
   ]
  },
  {
   "cell_type": "markdown",
   "metadata": {
    "id": "BPRVArLHWvxu"
   },
   "source": [
    "40. Implement a function to check if a given string is a valid palindrome considering case sensitivity."
   ]
  },
  {
   "cell_type": "code",
   "execution_count": 51,
   "metadata": {
    "colab": {
     "base_uri": "https://localhost:8080/"
    },
    "id": "3zGoj3RxWuWs",
    "outputId": "c98af582-e56c-4352-d186-5c4c9b0e9034"
   },
   "outputs": [
    {
     "name": "stdout",
     "output_type": "stream",
     "text": [
      "True\n"
     ]
    }
   ],
   "source": [
    "def is_valid_palindrome(string):\n",
    "    # Remove whitespace and convert to lowercase\n",
    "    modified_string = ''.join(string.split()).lower()\n",
    "    return modified_string == modified_string[::-1]\n",
    "\n",
    "# Example usage\n",
    "input_string = \"Racecar\"\n",
    "result = is_valid_palindrome(input_string)\n",
    "print(result)\n"
   ]
  },
  {
   "cell_type": "markdown",
   "metadata": {
    "id": "7dO59Jt7W82S"
   },
   "source": [
    "41. Write a Python program to find the smallest missing positive integer in a list."
   ]
  },
  {
   "cell_type": "code",
   "execution_count": 52,
   "metadata": {
    "colab": {
     "base_uri": "https://localhost:8080/"
    },
    "id": "SFbgYyJaW5Nb",
    "outputId": "2ccb9c3f-aadc-4495-f1bd-fb3b4c2c7d9a"
   },
   "outputs": [
    {
     "name": "stdout",
     "output_type": "stream",
     "text": [
      "2\n"
     ]
    }
   ],
   "source": [
    "def find_smallest_missing_positive_integer(numbers):\n",
    "    n = len(numbers)\n",
    "\n",
    "    # Move all positive integers to the left\n",
    "    j = 0\n",
    "    for i in range(n):\n",
    "        if numbers[i] > 0:\n",
    "            numbers[i], numbers[j] = numbers[j], numbers[i]\n",
    "            j += 1\n",
    "\n",
    "    # Consider only positive integers from index 0 to j\n",
    "    for i in range(j):\n",
    "        num = abs(numbers[i])\n",
    "        if num <= j:\n",
    "            numbers[num - 1] = -abs(numbers[num - 1])\n",
    "\n",
    "    # Find the smallest missing positive integer\n",
    "    for i in range(j):\n",
    "        if numbers[i] > 0:\n",
    "            return i + 1\n",
    "\n",
    "    return j + 1\n",
    "\n",
    "# Example usage\n",
    "input_list = [3, 4, -1, 1]\n",
    "smallest_missing = find_smallest_missing_positive_integer(input_list)\n",
    "print(smallest_missing)\n"
   ]
  },
  {
   "cell_type": "markdown",
   "metadata": {
    "id": "P3Gu1wFcXH9Z"
   },
   "source": [
    "42. Implement a function to find the longest palindrome substring in a given string."
   ]
  },
  {
   "cell_type": "code",
   "execution_count": 53,
   "metadata": {
    "colab": {
     "base_uri": "https://localhost:8080/"
    },
    "id": "s_H2IsINXGNF",
    "outputId": "a69a7d5c-d896-46c0-cf8b-fa52360ad972"
   },
   "outputs": [
    {
     "name": "stdout",
     "output_type": "stream",
     "text": [
      "bab\n"
     ]
    }
   ],
   "source": [
    "def longest_palindrome_substring(string):\n",
    "    n = len(string)\n",
    "    longest_length = 0\n",
    "    start = 0\n",
    "\n",
    "    # Helper function to expand around center\n",
    "    def expand_around_center(left, right):\n",
    "        nonlocal start, longest_length\n",
    "        while left >= 0 and right < n and string[left] == string[right]:\n",
    "            left -= 1\n",
    "            right += 1\n",
    "        current_length = right - left - 1\n",
    "        if current_length > longest_length:\n",
    "            longest_length = current_length\n",
    "            start = left + 1\n",
    "\n",
    "    # Check for odd-length palindromes\n",
    "    for i in range(n):\n",
    "        expand_around_center(i, i)\n",
    "\n",
    "    # Check for even-length palindromes\n",
    "    for i in range(n - 1):\n",
    "        expand_around_center(i, i + 1)\n",
    "\n",
    "    return string[start:start + longest_length]\n",
    "\n",
    "# Example usage\n",
    "input_string = \"babad\"\n",
    "longest_palindrome = longest_palindrome_substring(input_string)\n",
    "print(longest_palindrome)\n"
   ]
  },
  {
   "cell_type": "markdown",
   "metadata": {
    "id": "gMRvWLjRXSaV"
   },
   "source": [
    "43. Write a program to find the number of occurrences of a given element in a list."
   ]
  },
  {
   "cell_type": "code",
   "execution_count": 54,
   "metadata": {
    "colab": {
     "base_uri": "https://localhost:8080/"
    },
    "id": "ZllM21mgXQua",
    "outputId": "870ec65e-ce57-4a74-da86-3cad200fc031"
   },
   "outputs": [
    {
     "name": "stdout",
     "output_type": "stream",
     "text": [
      "4\n"
     ]
    }
   ],
   "source": [
    "def count_occurrences(elements, target):\n",
    "    count = 0\n",
    "    for element in elements:\n",
    "        if element == target:\n",
    "            count += 1\n",
    "    return count\n",
    "\n",
    "# Example usage\n",
    "input_list = [1, 2, 3, 2, 4, 2, 5, 2]\n",
    "target_element = 2\n",
    "occurrence_count = count_occurrences(input_list, target_element)\n",
    "print(occurrence_count)\n"
   ]
  },
  {
   "cell_type": "markdown",
   "metadata": {
    "id": "ymVciy9UXfXW"
   },
   "source": [
    "44. Implement a function to check if a given number is a perfect number."
   ]
  },
  {
   "cell_type": "code",
   "execution_count": 55,
   "metadata": {
    "colab": {
     "base_uri": "https://localhost:8080/"
    },
    "id": "ys_8YtSmXeKy",
    "outputId": "4b814039-2958-4d27-cb5b-87c097163e65"
   },
   "outputs": [
    {
     "name": "stdout",
     "output_type": "stream",
     "text": [
      "True\n"
     ]
    }
   ],
   "source": [
    "def is_perfect_number(number):\n",
    "    if number <= 0:\n",
    "        return False\n",
    "\n",
    "    divisors_sum = sum(\n",
    "        divisor for divisor in range(1, number) if number % divisor == 0\n",
    "    )\n",
    "\n",
    "    return divisors_sum == number\n",
    "\n",
    "# Example usage\n",
    "input_number = 28\n",
    "result = is_perfect_number(input_number)\n",
    "print(result)\n"
   ]
  },
  {
   "cell_type": "markdown",
   "metadata": {
    "id": "2a8UbPTGXptv"
   },
   "source": [
    "45. Write a Python program to remove all duplicates from a string."
   ]
  },
  {
   "cell_type": "code",
   "execution_count": 56,
   "metadata": {
    "colab": {
     "base_uri": "https://localhost:8080/"
    },
    "id": "t1t_aP8EXoD_",
    "outputId": "f2e60fd0-d774-41b5-caf2-e1976789c204"
   },
   "outputs": [
    {
     "name": "stdout",
     "output_type": "stream",
     "text": [
      "helo\n"
     ]
    }
   ],
   "source": [
    "def remove_duplicates(string):\n",
    "    unique_chars = []\n",
    "    for char in string:\n",
    "        if char not in unique_chars:\n",
    "            unique_chars.append(char)\n",
    "    return ''.join(unique_chars)\n",
    "\n",
    "# Example usage\n",
    "input_string = \"hello\"\n",
    "result = remove_duplicates(input_string)\n",
    "print(result)\n"
   ]
  },
  {
   "cell_type": "markdown",
   "metadata": {
    "id": "IF7au1ahXye-"
   },
   "source": [
    "46. Implement a function to find the first missing positive"
   ]
  },
  {
   "cell_type": "code",
   "execution_count": 57,
   "metadata": {
    "colab": {
     "base_uri": "https://localhost:8080/"
    },
    "id": "7IJMaO_jXxEG",
    "outputId": "962eee79-390b-4026-87e2-e7450bc9754b"
   },
   "outputs": [
    {
     "name": "stdout",
     "output_type": "stream",
     "text": [
      "2\n"
     ]
    }
   ],
   "source": [
    "def find_first_missing_positive(numbers):\n",
    "    n = len(numbers)\n",
    "\n",
    "    # Move all positive integers to the left\n",
    "    j = 0\n",
    "    for i in range(n):\n",
    "        if numbers[i] > 0:\n",
    "            numbers[i], numbers[j] = numbers[j], numbers[i]\n",
    "            j += 1\n",
    "\n",
    "    # Consider only positive integers from index 0 to j\n",
    "    for i in range(j):\n",
    "        num = abs(numbers[i])\n",
    "        if num <= j:\n",
    "            numbers[num - 1] = -abs(numbers[num - 1])\n",
    "\n",
    "    # Find the first missing positive integer\n",
    "    for i in range(j):\n",
    "        if numbers[i] > 0:\n",
    "            return i + 1\n",
    "\n",
    "    return j + 1\n",
    "\n",
    "# Example usage\n",
    "input_list = [3, 4, -1, 1]\n",
    "missing_positive = find_first_missing_positive(input_list)\n",
    "print(missing_positive)\n"
   ]
  },
  {
   "cell_type": "code",
   "execution_count": null,
   "metadata": {
    "id": "J8-Fy4HNYAqz"
   },
   "outputs": [],
   "source": []
  }
 ],
 "metadata": {
  "colab": {
   "provenance": []
  },
  "kernelspec": {
   "display_name": "Python 3 (ipykernel)",
   "language": "python",
   "name": "python3"
  },
  "language_info": {
   "codemirror_mode": {
    "name": "ipython",
    "version": 3
   },
   "file_extension": ".py",
   "mimetype": "text/x-python",
   "name": "python",
   "nbconvert_exporter": "python",
   "pygments_lexer": "ipython3",
   "version": "3.10.9"
  }
 },
 "nbformat": 4,
 "nbformat_minor": 1
}
